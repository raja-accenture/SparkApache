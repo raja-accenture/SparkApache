{
 "cells": [
  {
   "cell_type": "code",
   "execution_count": 0,
   "metadata": {
    "application/vnd.databricks.v1+cell": {
     "cellMetadata": {
      "byteLimit": 2048000,
      "rowLimit": 10000
     },
     "inputWidgets": {},
     "nuid": "4ae90e90-9d24-4e2a-8bfc-f200396f0735",
     "showTitle": false,
     "tableResultSettingsMap": {},
     "title": ""
    }
   },
   "outputs": [],
   "source": [
    "from pyspark.sql.functions import monotonically_increasing_id, rand, expr, col\n",
    "from pyspark.sql.types import StructType, StructField, IntegerType, StringType, DoubleType, DateType\n",
    "\n",
    "schema = StructType([\n",
    "    StructField(\"employeeid\", IntegerType(), False),\n",
    "    StructField(\"departmentid\", IntegerType(), False),\n",
    "    StructField(\"name\", StringType(), False),\n",
    "    StructField(\"age\", IntegerType(), False),\n",
    "    StructField(\"gender\", StringType(), False),\n",
    "    StructField(\"salary\", DoubleType(), False),\n",
    "    StructField(\"hire_date\", DateType(), False)\n",
    "])\n",
    "\n",
    "names = [\"Alex\", \"Jordan\", \"Taylor\", \"Morgan\", \"Casey\", \"Riley\", \"Jamie\", \"Avery\", \"Peyton\", \"Quinn\"]\n",
    "genders = [\"M\", \"F\"]\n",
    "\n",
    "base_df = spark.range(10000).withColumnRenamed(\"id\", \"employeeid\")\n",
    "df = (base_df\n",
    "      .withColumn(\"departmentid\", (rand()*10 + 1).cast(\"int\"))\n",
    "      .withColumn(\"name\", expr(f\"element_at(array({','.join([f'\\'{n}\\'' for n in names])}), cast(rand()*{len(names)}+1 as int))\"))\n",
    "      .withColumn(\"age\", (rand()*30 + 20).cast(\"int\"))\n",
    "      .withColumn(\"gender\", expr(f\"element_at(array({','.join([f'\\'{g}\\'' for g in genders])}), cast(rand()*{len(genders)}+1 as int))\"))\n",
    "      .withColumn(\"salary\", (rand()*70000 + 30000).cast(\"double\"))\n",
    "      .withColumn(\"hire_date\", expr(\"date_add('2010-01-01', cast(rand()*5000 as int))\"))\n",
    "     )\n",
    "\n",
    "df = df.select(\"employeeid\", \"departmentid\", \"name\", \"age\", \"gender\", \"salary\", \"hire_date\")\n",
    "display(df)"
   ]
  },
  {
   "cell_type": "code",
   "execution_count": 0,
   "metadata": {
    "application/vnd.databricks.v1+cell": {
     "cellMetadata": {
      "byteLimit": 2048000,
      "rowLimit": 10000
     },
     "inputWidgets": {},
     "nuid": "9ee12669-6c55-4137-aab0-3cf80a3e8d64",
     "showTitle": false,
     "tableResultSettingsMap": {},
     "title": ""
    }
   },
   "outputs": [],
   "source": [
    "from pyspark.sql.functions import col,expr\n",
    "empl_tab=df.filter(col(\"salary\")>50000)\n",
    "empl_tab.show()"
   ]
  },
  {
   "cell_type": "code",
   "execution_count": 0,
   "metadata": {
    "application/vnd.databricks.v1+cell": {
     "cellMetadata": {
      "byteLimit": 2048000,
      "rowLimit": 10000
     },
     "inputWidgets": {},
     "nuid": "68445ba3-0733-474d-a6c1-e4cb67b558e6",
     "showTitle": false,
     "tableResultSettingsMap": {},
     "title": ""
    }
   },
   "outputs": [],
   "source": [
    "empl_tab.display()"
   ]
  },
  {
   "cell_type": "code",
   "execution_count": 0,
   "metadata": {
    "application/vnd.databricks.v1+cell": {
     "cellMetadata": {
      "byteLimit": 2048000,
      "rowLimit": 10000
     },
     "inputWidgets": {},
     "nuid": "1a2fce50-6761-40f5-a923-13cdd393612d",
     "showTitle": false,
     "tableResultSettingsMap": {},
     "title": ""
    }
   },
   "outputs": [],
   "source": [
    "# To print the DataFrame Structure or Schema\n",
    "# empl_tab.schema\n",
    "empl_tab.printSchema()"
   ]
  },
  {
   "cell_type": "code",
   "execution_count": 0,
   "metadata": {
    "application/vnd.databricks.v1+cell": {
     "cellMetadata": {
      "byteLimit": 2048000,
      "rowLimit": 10000
     },
     "inputWidgets": {},
     "nuid": "cd8ce4ea-5e21-451a-9c05-a57bb51178b2",
     "showTitle": false,
     "tableResultSettingsMap": {},
     "title": ""
    }
   },
   "outputs": [],
   "source": [
    "# 1.Both gives the same result\n",
    "#  col('salary')\n",
    "# expr('gender')\n",
    "\n",
    "# 2. to call a calumn from dataFrame use this\n",
    "empl_tab.salary \n",
    "# empl_tab[\"salary\"]"
   ]
  },
  {
   "cell_type": "code",
   "execution_count": 0,
   "metadata": {
    "application/vnd.databricks.v1+cell": {
     "cellMetadata": {
      "byteLimit": 2048000,
      "rowLimit": 10000
     },
     "inputWidgets": {},
     "nuid": "c9cb3e31-0348-4be1-afde-0dc9a5f303f4",
     "showTitle": false,
     "tableResultSettingsMap": {},
     "title": ""
    }
   },
   "outputs": [],
   "source": [
    "from pyspark.sql.functions import col,expr\n",
    "\n",
    "emp_cast=empl_tab.select(expr(\"cast(salary as int) as sal\"),col(\"name\"))\n",
    "emp_cast.display()"
   ]
  },
  {
   "cell_type": "code",
   "execution_count": 0,
   "metadata": {
    "application/vnd.databricks.v1+cell": {
     "cellMetadata": {
      "byteLimit": 2048000,
      "rowLimit": 10000
     },
     "inputWidgets": {},
     "nuid": "dfc87f63-f413-4a5b-a9ff-47277084138c",
     "showTitle": false,
     "tableResultSettingsMap": {},
     "title": ""
    }
   },
   "outputs": [],
   "source": [
    "emp_cast.printSchema()"
   ]
  },
  {
   "cell_type": "code",
   "execution_count": 0,
   "metadata": {
    "application/vnd.databricks.v1+cell": {
     "cellMetadata": {},
     "inputWidgets": {},
     "nuid": "53c29527-75dd-4f97-9adf-4971a8a47eee",
     "showTitle": false,
     "tableResultSettingsMap": {},
     "title": ""
    }
   },
   "outputs": [],
   "source": [
    "# to write the data\n",
    "emp_cast.write.format(\"csv\").save(\"location/employee.csv\")\n",
    "# to read the data\n",
    "spark.read.table(\"employee\").display()"
   ]
  }
 ],
 "metadata": {
  "application/vnd.databricks.v1+notebook": {
   "computePreferences": null,
   "dashboards": [],
   "environmentMetadata": {
    "base_environment": "",
    "environment_version": "3"
   },
   "inputWidgetPreferences": null,
   "language": "python",
   "notebookMetadata": {
    "pythonIndentUnit": 4
   },
   "notebookName": "video-6-Basic Structured Transformation",
   "widgets": {}
  },
  "language_info": {
   "name": "python"
  }
 },
 "nbformat": 4,
 "nbformat_minor": 0
}
