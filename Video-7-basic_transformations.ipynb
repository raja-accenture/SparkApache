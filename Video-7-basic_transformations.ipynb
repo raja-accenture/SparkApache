{
 "cells": [
  {
   "cell_type": "code",
   "execution_count": 0,
   "metadata": {
    "application/vnd.databricks.v1+cell": {
     "cellMetadata": {
      "byteLimit": 2048000,
      "rowLimit": 10000
     },
     "inputWidgets": {},
     "nuid": "06283e0b-6e94-4562-8fb9-3d10c3246442",
     "showTitle": false,
     "tableResultSettingsMap": {},
     "title": ""
    }
   },
   "outputs": [],
   "source": [
    "from pyspark.sql import Row\n",
    "import random\n",
    "\n",
    "indian_first_names = [\n",
    "    \"Aarav\", \"Vivaan\", \"Aditya\", \"Vihaan\", \"Arjun\", \"Sai\", \"Reyansh\", \"Ayaan\", \"Krishna\", \"Ishaan\",\n",
    "    \"Shaurya\", \"Atharv\", \"Dhruv\", \"Kabir\", \"Ritvik\", \"Aarush\", \"Aryan\", \"Ansh\", \"Om\", \"Rudra\",\n",
    "    \"Advait\", \"Yuvaan\", \"Arnav\", \"Laksh\", \"Devansh\", \"Parth\", \"Darsh\", \"Veer\", \"Ayan\", \"Rohan\",\n",
    "    \"Samar\", \"Pranav\", \"Manav\", \"Vihaan\", \"Kiaan\", \"Aadi\", \"Aarush\", \"Aarav\", \"Ayaan\", \"Ishaan\",\n",
    "    \"Anaya\", \"Siya\", \"Aadhya\", \"Pari\", \"Anika\", \"Navya\", \"Myra\", \"Aarohi\", \"Saanvi\", \"Prisha\",\n",
    "    \"Diya\", \"Aaradhya\", \"Ira\", \"Anvi\", \"Meera\", \"Ishita\", \"Vanya\", \"Sara\", \"Riya\", \"Aanya\",\n",
    "    \"Mishka\", \"Kiara\", \"Tara\", \"Aanya\", \"Amaira\", \"Anvi\", \"Aarohi\", \"Aadhya\", \"Saanvi\", \"Anaya\",\n",
    "    \"Vivaan\", \"Aarav\", \"Aditya\", \"Vihaan\", \"Arjun\", \"Sai\", \"Reyansh\", \"Ayaan\", \"Krishna\", \"Ishaan\",\n",
    "    \"Shaurya\", \"Atharv\", \"Dhruv\", \"Kabir\", \"Ritvik\", \"Aarush\", \"Aryan\", \"Ansh\", \"Om\", \"Rudra\",\n",
    "    \"Advait\", \"Yuvaan\", \"Arnav\", \"Laksh\", \"Devansh\", \"Parth\", \"Darsh\", \"Veer\", \"Ayan\", \"Rohan\",\n",
    "    \"Samar\", \"Pranav\", \"Manav\", \"Vihaan\", \"Kiaan\", \"Aadi\", \"Aarush\", \"Aarav\", \"Ayaan\", \"Ishaan\",\n",
    "    \"Anaya\", \"Siya\", \"Aadhya\", \"Pari\", \"Anika\", \"Navya\", \"Myra\", \"Aarohi\", \"Saanvi\", \"Prisha\",\n",
    "    \"Diya\", \"Aaradhya\", \"Ira\", \"Anvi\", \"Meera\", \"Ishita\", \"Vanya\", \"Sara\", \"Riya\", \"Aanya\",\n",
    "    \"Mishka\", \"Kiara\", \"Tara\", \"Aanya\", \"Amaira\", \"Anvi\", \"Aarohi\", \"Aadhya\", \"Saanvi\", \"Anaya\",\n",
    "    \"Raj\", \"Rahul\", \"Amit\", \"Vikas\", \"Suresh\", \"Ramesh\", \"Sunil\", \"Akhil\", \"Deepak\", \"Sanjay\",\n",
    "    \"Pooja\", \"Priya\", \"Neha\", \"Sneha\", \"Kiran\", \"Ritu\", \"Swati\", \"Shreya\", \"Nisha\", \"Divya\",\n",
    "    \"Kavya\", \"Rashmi\", \"Anjali\", \"Preeti\", \"Komal\", \"Simran\", \"Payal\", \"Sheetal\", \"Megha\", \"Nidhi\",\n",
    "    \"Harsh\", \"Gaurav\", \"Abhishek\", \"Rajat\", \"Aman\", \"Kunal\", \"Nitin\", \"Siddharth\", \"Vivek\", \"Yash\",\n",
    "    \"Akash\", \"Rohit\", \"Sandeep\", \"Tarun\", \"Varun\", \"Vishal\", \"Ankit\", \"Mayank\", \"Shubham\", \"Sumit\"\n",
    "]\n",
    "\n",
    "indian_last_names = [\n",
    "    \"Sharma\", \"Verma\", \"Singh\", \"Patel\", \"Kumar\", \"Reddy\", \"Nair\", \"Gupta\", \"Mehta\", \"Jain\",\n",
    "    \"Agarwal\", \"Chopra\", \"Joshi\", \"Kapoor\", \"Bhat\", \"Das\", \"Chatterjee\", \"Banerjee\", \"Ghosh\", \"Mishra\",\n",
    "    \"Pandey\", \"Tripathi\", \"Srivastava\", \"Dubey\", \"Yadav\", \"Rana\", \"Saxena\", \"Sethi\", \"Malhotra\", \"Sinha\",\n",
    "    \"Rao\", \"Menon\", \"Pillai\", \"Shetty\", \"Naidu\", \"Desai\", \"Kulkarni\", \"Deshmukh\", \"Patil\", \"Sawant\",\n",
    "    \"Choudhary\", \"Bhatt\", \"Tiwari\", \"Shukla\", \"Dwivedi\", \"Pathak\", \"Chauhan\", \"Rawat\", \"Negi\", \"Bisht\",\n",
    "    \"Kaur\", \"Gill\", \"Sandhu\", \"Dhillon\", \"Sidhu\", \"Ahluwalia\", \"Bedi\", \"Grover\", \"Sodhi\", \"Sethi\",\n",
    "    \"Gupta\", \"Jain\", \"Agarwal\", \"Mehra\", \"Bansal\", \"Mittal\", \"Goel\", \"Chawla\", \"Suri\", \"Talwar\",\n",
    "    \"Bajaj\", \"Kohli\", \"Sodhi\", \"Ahluwalia\", \"Bedi\", \"Grover\", \"Sodhi\", \"Sethi\", \"Gupta\", \"Jain\",\n",
    "    \"Agarwal\", \"Mehra\", \"Bansal\", \"Mittal\", \"Goel\", \"Chawla\", \"Suri\", \"Talwar\", \"Bajaj\", \"Kohli\",\n",
    "    \"Sharma\", \"Verma\", \"Singh\", \"Patel\", \"Kumar\", \"Reddy\", \"Nair\", \"Gupta\", \"Mehta\", \"Jain\",\n",
    "    \"Agarwal\", \"Chopra\", \"Joshi\", \"Kapoor\", \"Bhat\", \"Das\", \"Chatterjee\", \"Banerjee\", \"Ghosh\", \"Mishra\",\n",
    "    \"Pandey\", \"Tripathi\", \"Srivastava\", \"Dubey\", \"Yadav\", \"Rana\", \"Saxena\", \"Sethi\", \"Malhotra\", \"Sinha\",\n",
    "    \"Rao\", \"Menon\", \"Pillai\", \"Shetty\", \"Naidu\", \"Desai\", \"Kulkarni\", \"Deshmukh\", \"Patil\", \"Sawant\",\n",
    "    \"Choudhary\", \"Bhatt\", \"Tiwari\", \"Shukla\", \"Dwivedi\", \"Pathak\", \"Chauhan\", \"Rawat\", \"Negi\", \"Bisht\"\n",
    "]\n",
    "\n",
    "departments = [\n",
    "    \"Engineering\", \"HR\", \"Finance\", \"Marketing\", \"Sales\", \"Support\", \"IT\", \"Admin\", \"Legal\", \"Operations\"\n",
    "]\n",
    "\n",
    "def generate_email(first, last, idx):\n",
    "    return f\"{first.lower()}.{last.lower()}{idx}@company.in\"\n",
    "\n",
    "random.seed(42)\n",
    "used_names = set()\n",
    "employees = []\n",
    "i = 1\n",
    "while len(employees) < 200:\n",
    "    first = random.choice(indian_first_names)\n",
    "    last = random.choice(indian_last_names)\n",
    "    name_key = (first, last)\n",
    "    if name_key in used_names:\n",
    "        continue\n",
    "    used_names.add(name_key)\n",
    "    employees.append(Row(\n",
    "        employee_id=i,\n",
    "        first_name=first,\n",
    "        last_name=last,\n",
    "        department=random.choice(departments),\n",
    "        salary=random.randint(30000, 150000),\n",
    "        email=generate_email(first, last, i)\n",
    "    ))\n",
    "    i += 1\n",
    "\n",
    "employee_df = spark.createDataFrame(employees)\n",
    "display(employee_df)"
   ]
  },
  {
   "cell_type": "code",
   "execution_count": 0,
   "metadata": {
    "application/vnd.databricks.v1+cell": {
     "cellMetadata": {
      "byteLimit": 2048000,
      "rowLimit": 10000
     },
     "inputWidgets": {},
     "nuid": "754c6a93-141e-448c-851f-7751be56a441",
     "showTitle": false,
     "tableResultSettingsMap": {},
     "title": ""
    }
   },
   "outputs": [],
   "source": [
    "# To print schema\n",
    "# employee_df.schema\n",
    "# or\n",
    "employee_df.printSchema()"
   ]
  },
  {
   "cell_type": "markdown",
   "metadata": {
    "application/vnd.databricks.v1+cell": {
     "cellMetadata": {},
     "inputWidgets": {},
     "nuid": "2f67734d-7e99-433d-b7ed-a56c8f8ea4c0",
     "showTitle": false,
     "tableResultSettingsMap": {},
     "title": ""
    }
   },
   "source": [
    "This is the example for Markdown"
   ]
  },
  {
   "cell_type": "code",
   "execution_count": 0,
   "metadata": {
    "application/vnd.databricks.v1+cell": {
     "cellMetadata": {
      "byteLimit": 2048000,
      "rowLimit": 10000
     },
     "inputWidgets": {},
     "nuid": "59c14881-5411-4424-8317-8d5a51b22ee6",
     "showTitle": false,
     "tableResultSettingsMap": {},
     "title": ""
    }
   },
   "outputs": [],
   "source": [
    "from pyspark.sql.functions import col,expr\n",
    "\n",
    "emp_nm=employee_df.filter(col(\"first_name\").like(\"A%\")).display()"
   ]
  },
  {
   "cell_type": "code",
   "execution_count": 0,
   "metadata": {
    "application/vnd.databricks.v1+cell": {
     "cellMetadata": {
      "byteLimit": 2048000,
      "rowLimit": 10000
     },
     "inputWidgets": {},
     "nuid": "9c0a9d59-15f8-4954-bdcd-19fa0746df93",
     "showTitle": false,
     "tableResultSettingsMap": {},
     "title": ""
    }
   },
   "outputs": [],
   "source": [
    "from pyspark.sql .functions import col,expr\n",
    "# slctd_cols=employee_df.select(col(\"first_name\"),col(\"last_name\")).limit(5).orderBy(col(\"first_name\").asc()).filter(col(\"first_name\").like(\"L%\"))\n",
    "slctd_cols=employee_df.selectExpr(\"first_name\",\"last_name\").limit(5).orderBy(col(\"first_name\").asc()).filter(col(\"first_name\").like(\"L%\"))\n",
    "slctd_cols.display()"
   ]
  },
  {
   "cell_type": "code",
   "execution_count": 0,
   "metadata": {
    "application/vnd.databricks.v1+cell": {
     "cellMetadata": {
      "byteLimit": 2048000,
      "rowLimit": 10000
     },
     "inputWidgets": {},
     "nuid": "2c40d688-5a2d-4b91-b6ba-d1bbba258a84",
     "showTitle": false,
     "tableResultSettingsMap": {},
     "title": ""
    }
   },
   "outputs": [],
   "source": [
    "onlyslctd=employee_df.select(col(\"First_name\"),col(\"department\"))\n",
    "slctd=employee_df\n",
    "onlyslctd.display()\n"
   ]
  },
  {
   "cell_type": "code",
   "execution_count": 0,
   "metadata": {
    "application/vnd.databricks.v1+cell": {
     "cellMetadata": {
      "byteLimit": 2048000,
      "rowLimit": 10000
     },
     "inputWidgets": {},
     "nuid": "e9ffb592-93af-4fd7-a22f-2c70289330e8",
     "showTitle": false,
     "tableResultSettingsMap": {},
     "title": ""
    }
   },
   "outputs": [],
   "source": [
    "# employee_df.show()\n",
    "employee_df.printSchema()"
   ]
  },
  {
   "cell_type": "code",
   "execution_count": 0,
   "metadata": {
    "application/vnd.databricks.v1+cell": {
     "cellMetadata": {
      "byteLimit": 2048000,
      "rowLimit": 10000
     },
     "inputWidgets": {},
     "nuid": "e0f725f4-c9f0-4fa3-81be-217596fbc2d3",
     "showTitle": false,
     "tableResultSettingsMap": {},
     "title": ""
    },
    "jupyter": {
     "outputs_hidden": true
    }
   },
   "outputs": [],
   "source": [
    "new=employee_df.withColumn(\"sal\", col(\"salary\").cast(\"int\")).withColumn(\"emp_id\",col(\"employee_id\").cast(\"string\"))\n",
    "new.show()"
   ]
  },
  {
   "cell_type": "code",
   "execution_count": 0,
   "metadata": {
    "application/vnd.databricks.v1+cell": {
     "cellMetadata": {
      "byteLimit": 2048000,
      "rowLimit": 10000
     },
     "inputWidgets": {},
     "nuid": "8c268f24-0111-496b-9cb0-f17b23a32a04",
     "showTitle": false,
     "tableResultSettingsMap": {
      "0": {
       "dataGridStateBlob": "{\"version\":1,\"tableState\":{\"columnPinning\":{\"left\":[\"#row_number#\"],\"right\":[]},\"columnSizing\":{},\"columnVisibility\":{}},\"settings\":{\"columns\":{}},\"syncTimestamp\":1758389084765}",
       "filterBlob": null,
       "queryPlanFiltersBlob": null,
       "tableResultIndex": 0
      }
     },
     "title": ""
    }
   },
   "outputs": [],
   "source": [
    "# To add a new column like (1 as newcolumn)\n",
    "from pyspark.sql.functions import lit\n",
    "new_col_emp=employee_df.withColumn(\"newcolumn\",lit(1)).withColumn(\"newcolumn2\",lit(3))\n",
    "new_col_emp.display()  "
   ]
  },
  {
   "cell_type": "code",
   "execution_count": 0,
   "metadata": {
    "application/vnd.databricks.v1+cell": {
     "cellMetadata": {
      "byteLimit": 2048000,
      "rowLimit": 10000
     },
     "inputWidgets": {},
     "nuid": "133859dd-9959-4c79-94da-6f58527bfbea",
     "showTitle": false,
     "tableResultSettingsMap": {},
     "title": ""
    }
   },
   "outputs": [],
   "source": [
    "# To add multiple columns like simply create a dictinary and pass it\n",
    "columns={\n",
    "    \"newcolumn\":col(\"salary\")*0.9,\n",
    "    \"newcolumn2\":lit(3),\n",
    "    \"newcolumn3\":lit(\"two\")\n",
    "    }\n",
    "new_col=new_col_emp.withColumns(columns)\n",
    "new_col=new_col.withColumn(\"newcolumn\",col(\"newcolumn\").cast(\"int\"))\n",
    "# new_col.display(5)\n",
    "new_col.show(5)\n"
   ]
  },
  {
   "cell_type": "code",
   "execution_count": 0,
   "metadata": {
    "application/vnd.databricks.v1+cell": {
     "cellMetadata": {
      "byteLimit": 2048000,
      "rowLimit": 10000
     },
     "inputWidgets": {},
     "nuid": "e1091ae2-5a4e-44b5-810b-ddad3f3579d1",
     "showTitle": false,
     "tableResultSettingsMap": {},
     "title": ""
    }
   },
   "outputs": [],
   "source": [
    "# Renaming columns\n",
    "fstnme_renamed=new_col_emp.withColumnRenamed(\"first_name\",\"Modathi_peru\")\n",
    "fstnme_renamed.display()"
   ]
  },
  {
   "cell_type": "code",
   "execution_count": 0,
   "metadata": {
    "application/vnd.databricks.v1+cell": {
     "cellMetadata": {
      "byteLimit": 2048000,
      "rowLimit": 10000
     },
     "inputWidgets": {},
     "nuid": "ee803e07-1b1f-4210-b6e6-9225311894d1",
     "showTitle": false,
     "tableResultSettingsMap": {},
     "title": ""
    }
   },
   "outputs": [],
   "source": [
    "# To rename multiple columns\n",
    "from pyspark.sql.functions import col\n",
    "drop_col=new_col_emp.drop(\"newcolumn\",\"newcolumn2\")\n",
    "drop_col.show()"
   ]
  },
  {
   "cell_type": "code",
   "execution_count": 0,
   "metadata": {
    "application/vnd.databricks.v1+cell": {
     "cellMetadata": {
      "byteLimit": 2048000,
      "rowLimit": 10000
     },
     "inputWidgets": {},
     "nuid": "504ccdd8-7b0e-4f6f-851c-e9867168118d",
     "showTitle": false,
     "tableResultSettingsMap": {},
     "title": ""
    }
   },
   "outputs": [],
   "source": [
    "drop_col.count()"
   ]
  },
  {
   "cell_type": "code",
   "execution_count": 0,
   "metadata": {
    "application/vnd.databricks.v1+cell": {
     "cellMetadata": {
      "byteLimit": 2048000,
      "rowLimit": 10000
     },
     "inputWidgets": {},
     "nuid": "5016d365-b59d-47dd-9344-ba77a6879441",
     "showTitle": false,
     "tableResultSettingsMap": {},
     "title": ""
    }
   },
   "outputs": [],
   "source": [
    "drop_col.write.format(\"csv\").save(\"dbfs/raja24feb/drop_col\")"
   ]
  }
 ],
 "metadata": {
  "application/vnd.databricks.v1+notebook": {
   "computePreferences": null,
   "dashboards": [],
   "environmentMetadata": {
    "base_environment": "",
    "environment_version": "3"
   },
   "inputWidgetPreferences": null,
   "language": "python",
   "notebookMetadata": {
    "pythonIndentUnit": 4
   },
   "notebookName": "Video-7-basic_transformations",
   "widgets": {}
  },
  "language_info": {
   "name": "python"
  }
 },
 "nbformat": 4,
 "nbformat_minor": 0
}
